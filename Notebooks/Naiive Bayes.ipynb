{
 "cells": [
  {
   "cell_type": "markdown",
   "metadata": {},
   "source": [
    "### Import sections"
   ]
  },
  {
   "cell_type": "code",
   "execution_count": 1,
   "metadata": {},
   "outputs": [],
   "source": [
    "import pandas as pd\n",
    "from sklearn.feature_extraction.text import CountVectorizer\n",
    "from sklearn.model_selection import train_test_split\n",
    "from sklearn import metrics\n",
    "from sklearn.metrics import roc_curve\n",
    "from sklearn.naive_bayes import MultinomialNB\n",
    "import matplotlib.pyplot as plt\n",
    "import pickle \n",
    "import numpy as np\n",
    "import time"
   ]
  },
  {
   "cell_type": "markdown",
   "metadata": {},
   "source": [
    "#### Reading the Data "
   ]
  },
  {
   "cell_type": "code",
   "execution_count": 2,
   "metadata": {},
   "outputs": [],
   "source": [
    "fake_data = pd.read_csv('https://s3.amazonaws.com/assets.datacamp.com/production/course_3629/fake_or_real_news.csv',\n",
    "            low_memory=True,\n",
    "            nrows = 100\n",
    "           )"
   ]
  },
  {
   "cell_type": "code",
   "execution_count": 3,
   "metadata": {},
   "outputs": [
    {
     "data": {
      "text/html": [
       "<div>\n",
       "<style scoped>\n",
       "    .dataframe tbody tr th:only-of-type {\n",
       "        vertical-align: middle;\n",
       "    }\n",
       "\n",
       "    .dataframe tbody tr th {\n",
       "        vertical-align: top;\n",
       "    }\n",
       "\n",
       "    .dataframe thead th {\n",
       "        text-align: right;\n",
       "    }\n",
       "</style>\n",
       "<table border=\"1\" class=\"dataframe\">\n",
       "  <thead>\n",
       "    <tr style=\"text-align: right;\">\n",
       "      <th></th>\n",
       "      <th>Unnamed: 0</th>\n",
       "      <th>title</th>\n",
       "      <th>text</th>\n",
       "      <th>label</th>\n",
       "    </tr>\n",
       "  </thead>\n",
       "  <tbody>\n",
       "    <tr>\n",
       "      <th>0</th>\n",
       "      <td>8476</td>\n",
       "      <td>You Can Smell Hillary’s Fear</td>\n",
       "      <td>Daniel Greenfield, a Shillman Journalism Fello...</td>\n",
       "      <td>FAKE</td>\n",
       "    </tr>\n",
       "    <tr>\n",
       "      <th>1</th>\n",
       "      <td>10294</td>\n",
       "      <td>Watch The Exact Moment Paul Ryan Committed Pol...</td>\n",
       "      <td>Google Pinterest Digg Linkedin Reddit Stumbleu...</td>\n",
       "      <td>FAKE</td>\n",
       "    </tr>\n",
       "    <tr>\n",
       "      <th>2</th>\n",
       "      <td>3608</td>\n",
       "      <td>Kerry to go to Paris in gesture of sympathy</td>\n",
       "      <td>U.S. Secretary of State John F. Kerry said Mon...</td>\n",
       "      <td>REAL</td>\n",
       "    </tr>\n",
       "    <tr>\n",
       "      <th>3</th>\n",
       "      <td>10142</td>\n",
       "      <td>Bernie supporters on Twitter erupt in anger ag...</td>\n",
       "      <td>— Kaydee King (@KaydeeKing) November 9, 2016 T...</td>\n",
       "      <td>FAKE</td>\n",
       "    </tr>\n",
       "    <tr>\n",
       "      <th>4</th>\n",
       "      <td>875</td>\n",
       "      <td>The Battle of New York: Why This Primary Matters</td>\n",
       "      <td>It's primary day in New York and front-runners...</td>\n",
       "      <td>REAL</td>\n",
       "    </tr>\n",
       "  </tbody>\n",
       "</table>\n",
       "</div>"
      ],
      "text/plain": [
       "   Unnamed: 0                                              title  \\\n",
       "0        8476                       You Can Smell Hillary’s Fear   \n",
       "1       10294  Watch The Exact Moment Paul Ryan Committed Pol...   \n",
       "2        3608        Kerry to go to Paris in gesture of sympathy   \n",
       "3       10142  Bernie supporters on Twitter erupt in anger ag...   \n",
       "4         875   The Battle of New York: Why This Primary Matters   \n",
       "\n",
       "                                                text label  \n",
       "0  Daniel Greenfield, a Shillman Journalism Fello...  FAKE  \n",
       "1  Google Pinterest Digg Linkedin Reddit Stumbleu...  FAKE  \n",
       "2  U.S. Secretary of State John F. Kerry said Mon...  REAL  \n",
       "3  — Kaydee King (@KaydeeKing) November 9, 2016 T...  FAKE  \n",
       "4  It's primary day in New York and front-runners...  REAL  "
      ]
     },
     "execution_count": 3,
     "metadata": {},
     "output_type": "execute_result"
    }
   ],
   "source": [
    "fake_data.head()"
   ]
  },
  {
   "cell_type": "code",
   "execution_count": 4,
   "metadata": {},
   "outputs": [],
   "source": [
    "response = fake_data.label"
   ]
  },
  {
   "cell_type": "code",
   "execution_count": 5,
   "metadata": {},
   "outputs": [],
   "source": [
    "count_vectorizer = CountVectorizer(stop_words=\"english\",\n",
    "                                   ngram_range=(1,4))"
   ]
  },
  {
   "cell_type": "markdown",
   "metadata": {},
   "source": [
    "#### Train test split"
   ]
  },
  {
   "cell_type": "code",
   "execution_count": 6,
   "metadata": {},
   "outputs": [],
   "source": [
    "X_train, X_test, Y_train, Y_test = train_test_split(fake_data[\"text\"],\n",
    "                                                   response,\n",
    "                                                   test_size=0.33,\n",
    "                                                   random_state=53)"
   ]
  },
  {
   "cell_type": "code",
   "execution_count": 7,
   "metadata": {},
   "outputs": [
    {
     "data": {
      "text/plain": [
       "'Google Pinterest Digg Linkedin Reddit Stumbleupon Print Delicious Pocket Tumblr \\nThere are two fundamental truths in this world: Paul Ryan desperately wants to be president. And Paul Ryan will never be president. Today proved it. \\nIn a particularly staggering example of political cowardice, Paul Ryan re-re-re-reversed course and announced that he was back on the Trump Train after all. This was an aboutface from where he was a few weeks ago. He had previously declared he would not be supporting or defending Trump after a tape was made public in which Trump bragged about assaulting women. Suddenly, Ryan was appearing at a pro-Trump rally and boldly declaring that he already sent in his vote to make him President of the United States. It was a surreal moment. The figurehead of the Republican Party dosed himself in gasoline, got up on a stage on a chilly afternoon in Wisconsin, and lit a match. . @SpeakerRyan says he voted for @realDonaldTrump : “Republicans, it is time to come home” https://t.co/VyTT49YvoE pic.twitter.com/wCvSCg4a5I \\n— ABC News Politics (@ABCPolitics) November 5, 2016 \\nThe Democratic Party couldn’t have asked for a better moment of film. Ryan’s chances of ever becoming president went down to zero in an instant. In the wreckage Trump is to leave behind in his wake, those who cravenly backed his campaign will not recover. If Ryan’s career manages to limp all the way to 2020, then the DNC will have this tape locked and loaded to be used in every ad until Election Day. \\nThe ringing endorsement of the man he clearly hates on a personal level speaks volumes about his own spinelessness. Ryan has postured himself as a “principled” conservative, and one uncomfortable with Trump’s unapologetic bigotry and sexism. However, when push came to shove, Paul Ryan – like many of his colleagues – turned into a sniveling appeaser. After all his lofty tak about conviction, his principles were a house of cards and collapsed with the slightest breeze. \\nWhat’s especially bizarre is how close Ryan came to making it through unscathed. For months the Speaker of the House refused to comment on Trump at all. His strategy seemed to be to keep his head down, pretend Trump didn’t exist, and hope that nobody remembered what happened in 2016. Now, just days away from the election, he screwed it all up. \\nIf 2016’s very ugly election has done any good it’s by exposing the utter cowardice of the Republicans who once feigned moral courage. A reality television star spit on them, hijacked their party, insulted their wives, and got every last one of them to kneel before him. What a turn of events. \\nFeatured image via Twitter'"
      ]
     },
     "execution_count": 7,
     "metadata": {},
     "output_type": "execute_result"
    }
   ],
   "source": [
    "X_train[1]"
   ]
  },
  {
   "cell_type": "code",
   "execution_count": 8,
   "metadata": {},
   "outputs": [],
   "source": [
    "count_train = count_vectorizer.fit_transform(X_train)"
   ]
  },
  {
   "cell_type": "code",
   "execution_count": 9,
   "metadata": {},
   "outputs": [
    {
     "data": {
      "text/plain": [
       "<67x83297 sparse matrix of type '<class 'numpy.int64'>'\n",
       "\twith 94064 stored elements in Compressed Sparse Row format>"
      ]
     },
     "execution_count": 9,
     "metadata": {},
     "output_type": "execute_result"
    }
   ],
   "source": [
    "count_train"
   ]
  },
  {
   "cell_type": "code",
   "execution_count": null,
   "metadata": {},
   "outputs": [],
   "source": [
    "count_test = count_vectorizer.transform(X_test)"
   ]
  },
  {
   "cell_type": "code",
   "execution_count": null,
   "metadata": {},
   "outputs": [],
   "source": [
    "count_test"
   ]
  },
  {
   "cell_type": "markdown",
   "metadata": {},
   "source": [
    "#### Naiive Bayes Training"
   ]
  },
  {
   "cell_type": "code",
   "execution_count": null,
   "metadata": {},
   "outputs": [],
   "source": [
    "nb_classifier = MultinomialNB()"
   ]
  },
  {
   "cell_type": "code",
   "execution_count": null,
   "metadata": {},
   "outputs": [],
   "source": [
    "nb_classifier.fit(count_train, Y_train)"
   ]
  },
  {
   "cell_type": "code",
   "execution_count": null,
   "metadata": {},
   "outputs": [],
   "source": [
    "pred = nb_classifier.predict(count_test)"
   ]
  },
  {
   "cell_type": "code",
   "execution_count": null,
   "metadata": {},
   "outputs": [],
   "source": [
    "score = metrics.accuracy_score(Y_test, pred)"
   ]
  },
  {
   "cell_type": "code",
   "execution_count": null,
   "metadata": {},
   "outputs": [],
   "source": [
    "score"
   ]
  },
  {
   "cell_type": "code",
   "execution_count": null,
   "metadata": {},
   "outputs": [],
   "source": [
    "cm = metrics.confusion_matrix(Y_test,\n",
    "                              pred,\n",
    "                              labels=[\"FAKE\",  \"REAL\"]\n",
    "                             )"
   ]
  },
  {
   "cell_type": "code",
   "execution_count": null,
   "metadata": {},
   "outputs": [],
   "source": [
    "cm"
   ]
  },
  {
   "cell_type": "code",
   "execution_count": null,
   "metadata": {},
   "outputs": [],
   "source": [
    "pickle.dump(nb_classifier, open('naiiveBayes.pkl', 'wb'))"
   ]
  },
  {
   "cell_type": "code",
   "execution_count": null,
   "metadata": {},
   "outputs": [],
   "source": [
    "vect = CountVectorizer(stop_words=\"english\",\n",
    "                                   ngram_range=(1,4))"
   ]
  },
  {
   "cell_type": "markdown",
   "metadata": {},
   "source": [
    "#### Load the model"
   ]
  },
  {
   "cell_type": "code",
   "execution_count": 10,
   "metadata": {},
   "outputs": [],
   "source": [
    "model = pickle.load(open('naiiveBayes.pkl', 'rb'))"
   ]
  },
  {
   "cell_type": "markdown",
   "metadata": {},
   "source": [
    "#### Streaming"
   ]
  },
  {
   "cell_type": "code",
   "execution_count": 11,
   "metadata": {},
   "outputs": [],
   "source": [
    "from pyspark import SparkContext,SparkConf\n",
    "from pyspark.streaming import StreamingContext\n",
    "from pyspark.sql import SQLContext\n",
    "from pyspark.sql.functions import desc\n",
    "import pickle \n",
    "import time\n",
    "from sklearn.naive_bayes import MultinomialNB"
   ]
  },
  {
   "cell_type": "markdown",
   "metadata": {},
   "source": [
    "#### Set spark configurations"
   ]
  },
  {
   "cell_type": "code",
   "execution_count": 12,
   "metadata": {},
   "outputs": [
    {
     "data": {
      "text/plain": [
       "<pyspark.conf.SparkConf at 0x116b78400>"
      ]
     },
     "execution_count": 12,
     "metadata": {},
     "output_type": "execute_result"
    }
   ],
   "source": [
    "conf = SparkConf()\n",
    "conf.set(\"spark.app.name\", \"MyApp\")\n",
    "conf.set(\"spark.ui.port\", \"36000\")"
   ]
  },
  {
   "cell_type": "markdown",
   "metadata": {},
   "source": [
    "#### Create spark context"
   ]
  },
  {
   "cell_type": "code",
   "execution_count": 13,
   "metadata": {},
   "outputs": [],
   "source": [
    "sc = SparkContext(\"local[2]\", \"Simple App\", conf)"
   ]
  },
  {
   "cell_type": "code",
   "execution_count": 14,
   "metadata": {},
   "outputs": [],
   "source": [
    "ssc = StreamingContext(sc, 10)"
   ]
  },
  {
   "cell_type": "code",
   "execution_count": 15,
   "metadata": {},
   "outputs": [],
   "source": [
    "tweets = ssc.socketTextStream(\"127.0.0.1\", 5555)"
   ]
  },
  {
   "cell_type": "markdown",
   "metadata": {},
   "source": [
    "#### Do prediction on stream of tweets "
   ]
  },
  {
   "cell_type": "code",
   "execution_count": 17,
   "metadata": {},
   "outputs": [],
   "source": [
    "transformed = tweets.map(lambda x : (x, model.predict(count_vectorizer.transform(pd.Series(x)))))"
   ]
  },
  {
   "cell_type": "code",
   "execution_count": 18,
   "metadata": {},
   "outputs": [],
   "source": [
    "transformed.pprint()\n",
    "tweets.pprint()"
   ]
  },
  {
   "cell_type": "markdown",
   "metadata": {},
   "source": [
    "#### Start of the stream"
   ]
  },
  {
   "cell_type": "code",
   "execution_count": 19,
   "metadata": {},
   "outputs": [
    {
     "name": "stdout",
     "output_type": "stream",
     "text": [
      "-------------------------------------------\n",
      "Time: 2017-12-11 16:14:30\n",
      "-------------------------------------------\n",
      "('RT @SonjaPlomp: Dit is James. James kon kennelijk de kerstafdeling van de IKEA niet vinden en in plaats van de weg te vragen, geeft… RT @lopezgovlaw: #News \"New York\\'s Port Authority evacuated after explosion\" via #USAToday | https://t.co/91VtvprOaS https://t.co/e2MipytWcURT @hasan_can: Ümraniye\\'de Yaşlılar da Yalnız Değil! https://t.co/KUz5ijnREN @umraniyebeltr aracılığıylaRT @Phire2Fire: @leahmcelrath Every single one of our media outlets conveniently left out the news about Nigel Farage campaigning f… https://t.co/SfW1wdQR3U', array(['FAKE'],\n",
      "      dtype='<U4'))\n",
      "('https://t.co/YlJnJxFcyb', array(['FAKE'],\n",
      "      dtype='<U4'))\n",
      "('https://t.co/SfW1wdQR3U', array(['FAKE'],\n",
      "      dtype='<U4'))\n",
      "('https://t.co/YlJnJxFcyb', array(['FAKE'],\n",
      "      dtype='<U4'))\n",
      "('', array(['REAL'],\n",
      "      dtype='<U4'))\n",
      "('Sir,', array(['REAL'],\n",
      "      dtype='<U4'))\n",
      "(\"Please Visit… https://t.co/RVgjpGAb4wRT @comic_natalie: 放課後は巫女部！ガールズコメディ「とどのつまりの有頂天」ヤンコミで開幕 https://t.co/RwwqRbA0Ma https://t.co/tDGnErma29RT @EdKrassen: It's not just an interview w/ Megyn Kelly!\", array(['FAKE'],\n",
      "      dtype='<U4'))\n",
      "('Women who have accused Donald Trump of sexual harassment &amp; assault will… RT @thehill: Watergate reporter: Fox News hosts are \"abetting a cover-up\" in Trump White House https://t.co/ZYLqK82RlE https://t.co/8iGh4Us…RT @JustinTrudeau: Incredible news in the field of cancer research this week – congratulations to the Canadian PhD student Caitlin Mir… RT @politicoalex: NEWS: Nebraska RNC committeewoman Joyce Simmons has RESIGNED over committee\\'s support for Roy MooreRT @livedoornews: 500RT：【泥酔】中華航空機内で騒いだ日本人3人は「全く謝らなかった」', array(['REAL'],\n",
      "      dtype='<U4'))\n",
      "('https://t.co/OF6qjiT42T', array(['FAKE'],\n",
      "      dtype='<U4'))\n",
      "('', array(['REAL'],\n",
      "      dtype='<U4'))\n",
      "...\n",
      "\n",
      "-------------------------------------------\n",
      "Time: 2017-12-11 16:14:40\n",
      "-------------------------------------------\n",
      "('هذا المجرم يقصد بـ\"الإرهابيين\" أحرار وشرفاء فلسطين من… RT @realDonaldTrump: Another false story, this time in the Failing @nytimes, that I watch 4-8 hours of television a day - Wrong!  Also,… News: (La salute mentale e i gruppi multifamiliari, il Forum a Catania) pubblicata su Informazione 24 -… https://t.co/5uk0VQZ6k6@WendyWilliams Old news, please carry onRT @PrisonPlanet: @broderick Officials revealed that it was ISIS-inspired attack very early on and this was widely reported on news n… RT @20committee: Cornered rat', array(['REAL'],\n",
      "      dtype='<U4'))\n",
      "('', array(['REAL'],\n",
      "      dtype='<U4'))\n",
      "(\"https://t.co/7SG7nNZ7Sh#PF Wirtschaft: Release according to art. 93 section 2 BörseG [IR News]: Release of… https://t.co/bm2Yoq3cIVRT @DavidCornDC: You realize your tweet contains a major contradiction, don't you? If media didn't care about accurate reporting, th… RT @AprilDRyan: Nothing yet from the @realDonaldTrump in the bombing in NYC but he attacks @nytimes https://t.co/6a70qxZrKf@realDonaldTrump @nytimes The FAKE NEWS on the rising, LMAO@speechboy71 @PamLaVigne6 Trump is pathetic and honestly Iam so tired of him with bashing other News Networks espec… https://t.co/65YN6qwWqURT @StockBiotech: DexTech Medical AB: Lovande resultat från DexTechs fas IIb-studie för OsteoDex https://t.co/hJF5FvIqfXRIP #KeithChegwin Very sad news today - such a funny man with a great laugh https://t.co/qfbHRM18FuRT @ThePlumLineGS: NBC News is now reporting that Mueller is examining whether *Trump* directed Mike Flynn to lie to senior officials… @CBSNews @DeplorableAlex @bravenewfilms Let's see where this crazy new attempt \", array(['FAKE'],\n",
      "      dtype='<U4'))\n",
      "('takes you.His voters already told y… https://t.co/HgaqT1LgaHКрупнейший в Астраханской области тепличный комплекс планируют запустить в 2018 году https://t.co/JPKWnxd5sT #tass #новости #newsRT @chrisdelia: Goddamn, man. Above everything else you’re just so fucking ANNOYING. Stop complaining. https://t.co/YxF7iMZRD5#PF Wirtschaft: Veröffentlichung gemäß § 93 Abs. 2 BörseG [IR News]: Veröffentlichung einer… https://t.co/YtsM7uVEmsRT @zerohedge: Pentagon To Undergo First Ever Audit After Decades Of Sloppy Accounting And Missing Trillions https://t.co/grXrP6MQ7Ehttps://t.co/ojQdBZ41fC News: Report: Apple acquiring music recognition app Shazam https://t.co/6Jvgr19FOu\"There have been times in our history where corruption &amp; lawlessness were so pervasive that examples had to be made… https://t.co/uUqwtCq2Btジャンプの好きなページ 服に  - Y!ニュース https://t.co/YVlbg2S2mGRT @nikkansports: 嵐櫻井翔「熱気を現地から」６大会連続で五輪の顔 - ジャニーズ  https://t.co/rg9qTaKjgn #櫻井翔 #ピョンチャン #PyeongChang2018  #Pyeongchang #嵐Researchers call for elimination of window blinds with cords to reduce child strangulations https://t.co/L9U4d4bPhL #Comm108RT @MordiOfficial: Reduced Inequalities + Health: Disturbing News as Millions of Kids with Disabilities Are Locked in Institutions', array(['FAKE'],\n",
      "      dtype='<U4'))\n",
      "('https://…J-WAVE NEWSをスマートフォンアプリantenna*で読もう！ https://t.co/EAKDNUrlxcRT @YarmolukDan: #Blockchain platform provider Ship Chain joins transportation blockchain alliance https://t.co/atdxYQXNs8 #Crypto… RT @sarsooera: A bomb went off at the Port Authority Bus Terminal in New York, in case nobody told you. https://t.co/FNN5kSEpBQRT @hobby_magazine: 【 #電ホビ フォロー＆RT #プレゼント 企画】『#ラブライブ！サンシャイン!!』#津島善子 フィギュアを1名様に！', array(['REAL'],\n",
      "      dtype='<U4'))\n",
      "('●RT期限：2017/12/20(水)13時まで', array(['FAKE'],\n",
      "      dtype='<U4'))\n",
      "('●詳細：https://t.co/uPESRMyjb5… RT @Adel__Almalki: #news by #almalki: Trump lawyer denies Deutsche Bank got subpoena on Trump accounts - FRANKFURT/WASHINGTON (Reuters… RT @yomerumo_news: 【芸能】森且行、元SMAP3人との共演「楽しかった」\\u3000「お互い頑張っていきたい」とエールも https://t.co/ZKGyPnH7Nh #yomerumoRT @vlissfuI: [NEWS] BTS revealed their goals for 2018 at the 2017 BTS LIVE TRILOGY EPISODE iii THE WINGS TOUR THE FINAL press co… パチンカスがビットコインに手を出した結果ｗｗｗｗｗ https://t.co/EOJUWV5oLNRT @Cernovich: @realDonaldTrump CNN - the most busted name in news! https://t.co/VO0kcOQKqWRT @x__ok: またアベ友 https://t.co/jA3HeqUga1RT @Adel__Almalki: #News by #almalki : Interior secretary urges size cuts to more national monuments - WASHINGTON (Reuters) - Interior… février c bcp trop looooin https://t.co/WLtecgGreZ光秀が本能寺の変を起こした動機仮説一覧がこちら wwwww https://t.co/wLGrD9qlCQRT @Mikel_Jollett: Fox News is state propaganda.', array(['FAKE'],\n",
      "      dtype='<U4'))\n",
      "('Fox News is state propaganda.', array(['REAL'],\n",
      "      dtype='<U4'))\n",
      "('Fox News is state propaganda.', array(['REAL'],\n",
      "      dtype='<U4'))\n",
      "('Fox News is state propaga… @JB_Trey5 @BaseballBros See I disagree with that anytime he or any athlete is on a team he or she always reflects t… https://t.co/CRjZ4DCJDJRT @EpicRoflDon: और तुम इसका बदला पाकिस्तान जा के बिरयानी खा के लेना !! https://t.co/IlWiueWPPART @oricon: モー娘。工藤遥、涙の卒業\\u3000女優の夢へと決意新た「またね！」（写真 全10枚）', array(['FAKE'],\n",
      "      dtype='<U4'))\n",
      "...\n",
      "\n",
      "-------------------------------------------\n",
      "Time: 2017-12-11 16:14:50\n",
      "-------------------------------------------\n",
      "(\"We can't hold our excitement to see the first wedding picture of… Fox News Host Snaps Off At David Clarke https://t.co/aHUjJJr8XjRT @BootstrapCook: RT if you were outraged/devastated/upset by Grenfell and you DON'T just get your news from 'Russia'. This is awful… RT @TheDailyShow: We're all ok in NYC thanks for asking! https://t.co/ERFd4fabAMGet out and vote Alabama Dems! https://t.co/b5UmPKBZL2RT @NBCNews: NBC NEWS EXCLUSIVE: What did President Trump know and when did he know it? https://t.co/jUe1po7V88 https://t.co/mtKN3uv4C2Seven charts that explain the plastic pollution problem https://t.co/dPSW2kDrSa@Potters_1863 it’s brilliant news about Liam ain’t it??? We are so bloody proud ☺️💖🏏 xSomeone in the RNC with morals? https://t.co/j5h9G98dWFSetya Novanto Mundur, Fadli Zon Terpilih sebagai Plt Ketua DPR - News https://t.co/1HIjrRhxcO @DPR_RI @fadlizon  https://t.co/qmGNokrO6sRT @LoveLive_staff: 【ラブライブ！虹ヶ咲学園スクールアイドル同好会 はじめまして！公開生放送 第３回_告知情報】「スクフェス5thアニバーサリーキャンペーンガール27人総選挙」結果発表！「μ's：矢澤にこ Aqours：津島善子 虹ヶ咲学園スクールア… #HereWeGo: In Putin’s heartland, apathy and disappointment rule https://t.co/ti6SX9m99iRT @noAgendaShop: Greenwald: The U.S. Media Just Suffered Its Most Humiliating Debacle in Ages #noagenda #podcast #tech #mainstream… Boil order in effect for Nail-Swain https://t.co/5x5eduugYq【盟約】＆かんぱに公式フォローで「ノゲノラ」声優陣のサインやWebmoneyがもらえるチャンス！\", array(['FAKE'],\n",
      "      dtype='<U4'))\n",
      "('', array(['REAL'],\n",
      "      dtype='<U4'))\n",
      "('【九つ】\\u3000【限定】アイテムだけ\\u3000調査しなければ\\u3000いいかもしれない', array(['REAL'],\n",
      "      dtype='<U4'))\n",
      "('', array(['REAL'],\n",
      "      dtype='<U4'))\n",
      "('ノゲノラ × かんぱに コラボ開催！… https://t.co/xWcWR1QsNmRT @livedoornews: 【ロサンゼルス山火事】炎に向かうウサギを男性が保護…映像が拡散', array(['FAKE'],\n",
      "      dtype='<U4'))\n",
      "('https://t.co/lOTK43OuiZ', array(['FAKE'],\n",
      "      dtype='<U4'))\n",
      "('', array(['REAL'],\n",
      "      dtype='<U4'))\n",
      "(\"150棟以上が焼失し、5万人以上が避難している山火事。この映像は、野生動物を保護することの是非も含めて話題となってい… RT @standupkid: OKAY FINE. SO YOU WATCH *TEN OR TWELVE* HOURS OF TV A DAY. When did you last read a book, @realDonaldTrump? https://t.co/xg…But not disputing the claims of the women who say you sexually assaulted them? #HoldTrumpAccountableDay https://t.co/h9I4H2HfxqRT @parafrentebrasi: Globo News nem um pio da briga da convenção da tucanada https://t.co/8Gi2ys1oUmRT @McCannPR: Find out how McCann Central employees will be celebrating the diversity of cultures for which Birmingham is famous… RT @TheRealPopeyeO: Roy Moore: 'I Never Molested Anyone' - Breitbart - Breitbart News https://t.co/uvRehJgRXuRT @poppymcp: Human Rights Day, #Myanmar-style. Opened by a Rakhine politician who denies abuses against Rohingya and has waxed l… RT @jonrog1: The whole point of having principles is you act on them when it’s actually hard. That’s how you know it’s a princip… I wonder if all the hot takes will go on sale on ebay https://t.co/0FDHQnHOSWRT @keegan_hamilton: @vicenews Nearly half of the unarmed people shot by police in our data were black. https://t.co/695PxSZwvI https://t.c…@HoustonPetSet Animal cruelty is a #predictor https://t.co/LWXJB9iDPgRT @barks_news: ニッキー・シックス「1月から無職」\", array(['FAKE'],\n",
      "      dtype='<U4'))\n",
      "('', array(['REAL'],\n",
      "      dtype='<U4'))\n",
      "('https://t.co/RM4dlGxisB', array(['FAKE'],\n",
      "      dtype='<U4'))\n",
      "...\n",
      "\n"
     ]
    },
    {
     "name": "stdout",
     "output_type": "stream",
     "text": [
      "-------------------------------------------\n",
      "Time: 2017-12-11 16:15:00\n",
      "-------------------------------------------\n",
      "(\"Why @JPMorgan, @AmericanExpress , @HSBC are backing ‘isolation’ web browsing :… Saudi Arabia will allow public movie theaters for the first time in more than 35 years https://t.co/c4X2TiWukQ via @bpoliticsMSNBC NEWS Today 6:00 AM ET 12/11/17 | MSNBC NEWS December 11, 2017 https://t.co/8LTV0kdHAN via @YouTubeRT @NipoSen: Genitals cut, hot oil poured on eyes and face, head split into two, condition of Hindu-Dalit activist Paresh Mesta,… RT @beckettmedia: Shohei Ohtani has lots of cool Japanese baseball cards. Here's a look at his earliest: https://t.co/vZtlEyKpyA… RT @pamfoundation: https://t.co/K9YwJMZRN0RT @RVAwonk: NEW: Women who have accused Trump of sexual harassment and/or assault will speak at a news conference, hosted by… RT @nhk_kabun: 【ノーベル平和賞授賞式 被爆者も演説】ノーベル平和賞の授賞式がノルウェーで行われ、受賞したＩＣＡＮ＝核兵器廃絶国際キャンペーンのメンバーとともに、広島で被爆したサーロー節子さんが演説し、すべての国が核廃絶を進めるべきだと訴えました。https://…Don't believe the Fox fake news. Doug Jones will need every vote. Decent people must vote tomorrow to try to stop a… https://t.co/7vzxYII4j0Nice news story for once - Huntington’s breakthrough may stop disease https://t.co/GeSIKoYvhLRT @kylegriffin1: Interesting that Trump is choosing to attack the New York Times, rather than respond to the Times Square terror inc… Increased pressure on the construction industry stemming from a skilled labour shortage is increasing demand for be… https://t.co/2KWZIC4TAcBREAKING NEWS via @PalmerReport https://t.co/JOnW8g4QDg#平原綾香 Official Websiteより\", array(['REAL'],\n",
      "      dtype='<U4'))\n",
      "('朝日新聞デジタル「INTEREST 私の一枚」インタビュー掲載情報', array(['REAL'],\n",
      "      dtype='<U4'))\n",
      "('https://t.co/WgRpXnSNJb', array(['FAKE'],\n",
      "      dtype='<U4'))\n",
      "(\"あーや若い…💖\\u3000でも今のあーやも変わらず可愛いRT @realDonaldTrump: Another false story, this time in the Failing @nytimes, that I watch 4-8 hours of television a day - Wrong!  Also,… Top #retailers write to #RBI, government against the central bank's move to change #MDR norms; say retailers will s… https://t.co/08kD4BmYHI@CRONEIL @MSNBC Did you come to that conclusion by watching this FAKE NEWS network who makes serious errors in repo… https://t.co/lkFFKFXm64RT @LSUJEFF: NFL stadium tickets plummet to unimaginable prices — see just how bad the protest damage is https://t.co/bAUUrim0v1… RT @kingsmanjp: 【👓#第二回キングスマン適性試験】\", array(['FAKE'],\n",
      "      dtype='<U4'))\n",
      "('スパイ志望者殺到につき、第二回試験の開催中❗\\u3000再び挑め❗', array(['REAL'],\n",
      "      dtype='<U4'))\n",
      "('', array(['REAL'],\n",
      "      dtype='<U4'))\n",
      "('①フォロー\\u3000②RT で本部から即座に結果が', array(['REAL'],\n",
      "      dtype='<U4'))\n",
      "('', array(['REAL'],\n",
      "      dtype='<U4'))\n",
      "('認定者には便利グッズか特製アイテムが与えられるぞ。毎日挑め❗\\u3000詳細は👉… RT @CBSSportsNBA: Report: Rival executives believe Rockets are legitimate threat to sign LeBron James', array(['REAL'],\n",
      "      dtype='<U4'))\n",
      "('', array(['REAL'],\n",
      "      dtype='<U4'))\n",
      "...\n",
      "\n",
      "-------------------------------------------\n",
      "Time: 2017-12-11 16:15:10\n",
      "-------------------------------------------\n",
      "('@hrxbrand https://t.co/lbinaBN8KIRT @RandyHilarski: #Bitcoin News Futures Launch Puts Record Bitcoin Highs Back in Play - Having landed on Wall Street with a bang, bit… @realDonaldTrump @nytimes The @nytimes has earned a new subscriber. If Pres. Tweety McFakeNews suggests they are \"f… https://t.co/GJipEMBcqISad news about #KeithChegwin I grew up with him on the telly. Sending love to his family and those who loved him ❤️✨Canada is nice, but we really\\xa0need a \\'Britain-plus plus plus\\' Brexit deal https://t.co/WDcTFHrt89RT @SafetyPinDaily: Uranium firm urged Donald Trump to shrink Bears Ears area to ease access to radioactive ore   |Via Independent https://…RT @deray: Autopsy Doctor Resigns, Says Sheriff Overrode Death Findings to Protect Officers https://t.co/A9rbRcPA3GRT @robotaylor40: I\\'m back home now folks after 4 and a half hours at the hospital not good news unfortunately so gonna spend time pr… Good news for those aching post-exercise muscles - just 1 bout of muscle soreness can develop a part-protective eff… https://t.co/82dA5zLuSART @qaazishafique: Tonight Watch PAT Media spokesman Qazi shafique on ARY News at 11pm with Waseem Badami. #BaqirNajfiReport【ロリ巨乳】「ご飯くらい食べさせてよ！」一日中チ●ポ突っ込んだら女はどうなるのか？人生初の巨根で検証した結果ｗｗ【PornHub】', array(['REAL'],\n",
      "      dtype='<U4'))\n",
      "('https://t.co/XgZ0UWs6b3 #アダルト #動画 #LogPo https://t.co/Hqj2zveD4TRT @MHerz67: Judge makes public trove of data used by state #Republican leaders in 2011 redistricting effort that the #GOP tried… RT @YonhapNews: EXO\\'s new album sells over 1.59 mln copies https://t.co/bK5msbP1RlRT @SharathArrojIAS: @PawanKalyan im extremely happy with the response of fellow PK fans to my tweets. I hope the news shall reach Pawan Ka…RT @PressSec: Since the election \"the jobless rate for African Americans dropped from 8% to 7.3%, while for Hispanics it fell fro… RT @natalie_mu: さんま×大竹しのぶ「明石家紅白！」でデュエット、乃木坂は写真集の自信カット紹介 https://t.co/8yguy5ysk1 https://t.co/XW5o7xx7AbRT @zerohedge: Senate Tax Debacle: Certain Pass-Through Entities Face Marginal Tax Rates Over 100% Under Current Bill https://t.co/bgWnqhWr…RT @rockinon_com: 【速報】THE YELLOW MONKEY＠東京ドーム、2日目。歓喜の夜でした https://t.co/GXpywGx4CdLive: Breaking news, weather and travel Sunday December 10 - https://t.co/R3iLwHixdhRT @AnimalAid: Historic London market bans the sale of fur https://t.co/67tqjj5kLd#NASCAR Season Review: Ryan Blaney https://t.co/UBbCiBAj9E https://t.co/givYUm5VX1 https://t.co/yDDFWvhUDgRT @mnst__kkmm: 明日12時（正午）～ガチャ「ストライカーズコレクション」が24時間限定開催！ダルタニャン等のユーザーアンケートで選ばれた上位16体のキャラが出現確率超UP＆ラック5排出！ #モンスト https://t.co/SmrR7JN9Go https:/…RT @cloudbook: NI Announces New IP67 Edge Nodes for the Industrial #InternetOfThings https://t.co/BGy1YQUe8n #IoT #IIoT… RT @SafetyPinDaily: Fox News connects Lindsey Vonn\\'s Trump insults to Olympic skier\\'s back injury at World Cup race days later   |Via N… RT @kingsmanjp: 【👓#第二回キングスマン適性試験】', array(['REAL'],\n",
      "      dtype='<U4'))\n",
      "('スパイ志望者殺到につき、第二回試験の開催中❗\\u3000再び挑め❗', array(['REAL'],\n",
      "      dtype='<U4'))\n",
      "('', array(['REAL'],\n",
      "      dtype='<U4'))\n",
      "('①フォロー\\u3000②RT で本部から即座に結果が', array(['REAL'],\n",
      "      dtype='<U4'))\n",
      "('', array(['REAL'],\n",
      "      dtype='<U4'))\n",
      "('認定者には便利グッズか特製アイテムが与えられるぞ。毎日挑め❗\\u3000詳細は👉… RT @sueperkins: Very sad news. ', array(['FAKE'],\n",
      "      dtype='<U4'))\n",
      "('We must step up and defend our NHS from this government as a matter of urgency. https://t.co/uSNRi4LyBE#Apple, Jony Ive torna al comando operativo del team design ... - Hardware upgrade.it  https://t.co/60TKvULM94 Design, News ...RT @Koreaboo: BTS becomes the only artist to break 7-year record for \"Highest First Week Sales Record\" with new Japanese single… Very sad to hear the news of Keith Chegwin. He has been around all of my life, especially my childhood with the lik… https://t.co/mosYKOINddRT @JMichaelOGarra: Police failing to attend one in nine domestic violence incidents, figures show https://t.co/qlZZKpGZyuRT @kylegriffin1: Russian trolls flooded Twitter with hundreds of thousands of divisive posts in 2016—accusing Democrats of satanic p… RT @AAPInNews: मैक्स अस्पताल से भाजपा का क्या रिश्ता है? : आम आदमी पार्टी - Regional News - Samay Live https://t.co/kOcS70KPubAsí son las fachadas con nombre español que nos permitirán ahorrar en calefacción', array(['FAKE'],\n",
      "      dtype='<U4'))\n",
      "('https://t.co/LKIZ64GeV8 #ahorro #economía #viviendaBreaking news leeds manager watches football matchRT @SJSchauer: You know what really ruins Christmas? Getting raped. https://t.co/4xLmCc0nzi貴乃花が「新日本相撲協会」設立へ https://t.co/2RUrlqTuYu @sakamobiより   やったね！美しい相撲文化を作って欲しい。RT @game_watch: 「World of Warships」、「はいふり」コラボ第2弾が決定\\u3000五十六仕様の晴風!?\\u3000コラボビジュアルや「はいふり」特殊迷彩が公開 https://t.co/Vh8LU49Lie #はいふり https://t.co/1zimeB71YHRT @RealMissVAUSA: https://t.co/41t3vIgYQzRT @cheryna27: This is Hospital Rembau.', array(['FAKE'],\n",
      "      dtype='<U4'))\n",
      "('Target completion date will be June 2018. You should be reading the news afterwards. But I… @realDonaldTrump @nytimes Don Lemon is the dopiest man on cable newsRT @itvnews: NYC Mayor confirms Manhattan subway explosion was attempted terror attack as suspect named as 27-year-old Akayed Ul… @TheRynheart Even trump agrees that FoxFake news are the worse https://t.co/QMOoCHEcBMI bet this will be Liberals news version of today’s NYC terrorist attack. “Muslim students science project malfunct… https://t.co/qOo4HywU3JRT @SatoMasahisa: 【金正恩委員長の「白頭山詣」の後に何が起きる？】', array(['REAL'],\n",
      "      dtype='<U4'))\n",
      "...\n",
      "\n"
     ]
    },
    {
     "name": "stdout",
     "output_type": "stream",
     "text": [
      "-------------------------------------------\n",
      "Time: 2017-12-11 16:15:20\n",
      "-------------------------------------------\n",
      "('https://t.co/bZ7IF2Em31RT @DineshDSouza: DOGCATCHER CALLS IT QUITS: Her complete obscurity shows how little fallout this is actually causing at the GOP https://t.…RT @okaguchik: 行政書士試験で、二人分の解答済み答案を紛失させた責任者が，単なる厳重注意で終わる(^_^)', array(['REAL'],\n",
      "      dtype='<U4'))\n",
      "('', array(['REAL'],\n",
      "      dtype='<U4'))\n",
      "('https://t.co/lhwkjoPbSI', array(['FAKE'],\n",
      "      dtype='<U4'))\n",
      "('', array(['REAL'],\n",
      "      dtype='<U4'))\n",
      "('俺は、プライベートのつぶやきだけで，厳重注意(^_^)RT @mariko_dayo: 桐谷健太と入江悠の“代表作”「ビジランテ」本日公開、大森南朋が撮影回想 - 映画ナタリー https://t.co/iD2UzMxxUeКлубам #РФ повезло с жеребьевкой Лиги Европы #УЕФА #жеребьевка #футбол https://t.co/O1ZeEYSwQ6NFL signs $500 million deal with Verizon to stream games https://t.co/SIxnL9NFma #economy &amp; #finance #newsRT @patcondell: Opposition parties banned from Venezuelan election. First starvation, now dictatorship. The socialist programme is… : RT filmfare: #HappyBirthdayDilipKumar', array(['FAKE'],\n",
      "      dtype='<U4'))\n",
      "('', array(['REAL'],\n",
      "      dtype='<U4'))\n",
      "('In this 2013 interview with Filmfare, SrBachchan recalls his first shot wi… https://t.co/5otY15LbFZRT @Shahid_Online: Feature: \"Best Dressed Celebs this Week\"', array(['REAL'],\n",
      "      dtype='<U4'))\n",
      "('@shahidkapoor is by far the most stylish in Bollywood! 😍', array(['REAL'],\n",
      "      dtype='<U4'))\n",
      "('\"We loved the jac… RT @GauravPandhi: This pic tweeted by defence Minister @nsitharaman is today being carried out as an \"exclusive\" hot-cake breaking ne… RT @TrojanManifesto: \\'Sadistic\\' former senior Catholic priest found guilty on 19 charges https://t.co/xUzf3HmI7BGeorgia\\'s Kirby Smart is Sporting News Coach of the Year https://t.co/ChalJ2Zi48 https://t.co/AKDJVEGoDS@Arndale_Centre @EastbourneBuzz @Eastbourne_TIC look we made the news AND raised £285!!! https://t.co/vuYOFOX3zX https://t.co/N8lLSIKfyART @lulu_lemew: Explosive detonates below NYC transit hub in \\'attempted terrorist attack\\' - ABC News https://t.co/a9FHjfwlSg (via @ABC)Στην Κωνσταντινούπολη ο Ακιντζί μετά από πρόσκληση Ερντογάν. #Erdogan https://t.co/FHxZTFAWgX https://t.co/7TzGGtpmPMRT @TopherSpiro: My take: @SenatorCollins must change her vote or lose the trust of her constituents. #mepolitics… Firefox Implements Another Privacy-Preserving Feature Taken From the T...', array(['FAKE'],\n",
      "      dtype='<U4'))\n",
      "('https://t.co/KRFrhSq1WP #browsers #privacy', array(['FAKE'],\n",
      "      dtype='<U4'))\n",
      "...\n",
      "\n",
      "-------------------------------------------\n",
      "Time: 2017-12-11 16:15:30\n",
      "-------------------------------------------\n",
      "(\"T: I told you not to bother me when I'm on the… RT @WashTimes: Fusion GPS, the opposition research firm behind the Russia dossier, pitched other stories to Washington reporters,… RT @RadioTimes: RIP Cheggers: Keith Chegwin has passed away aged 60: https://t.co/PlqUMaDETT https://t.co/gC7q9A4pkkRT @LoveLive_staff: 【ラブライブ！虹ヶ咲学園スクールアイドル同好会 はじめまして！公開生放送 第３回_告知情報】「スクフェス5thアニバーサリーキャンペーンガール27人総選挙」結果発表！「μ's：矢澤にこ Aqours：津島善子 虹ヶ咲学園スクールア… RT @DearAuntCrabby: Go back to stuffing your pie hole with McDonald's you fat moron https://t.co/KflEfbC3CmRT @DonaldJTrumpJr: 18 Questions CNN Needs To Answer After Getting Busted For Fake News https://t.co/BvyUVOwIAART @BreakingNLive: BREAKING NEWS: Suspect is named Akayed Ullah, 27 yo male.\", array(['FAKE'],\n",
      "      dtype='<U4'))\n",
      "('#ManhattanAttackhttps://t.co/J7f5CMm2J0 #News https://t.co/zmgJKqzRJj La mochila pintada que llevabas en el instituto ha vuelto (y… https://t.co/Zoj7wt4BhURT @dumptrump33: Be wary of Fox News using fake polls with the hope of depressing Dem turnout. https://t.co/VJchtW0w8tRT @LullabyTrust: There have been some worrying articles in the news over the last few days advising mums to sleep newborns on their… [On met le Doigt sur...] @DoigtsurLeTruc sera présent pour plusieurs de ses clients au @sandwichshows cru 2018 les… https://t.co/LFwgb37tjoRT @hidehunt1: Enthused Dems?! Don’t you mean _Deranged, crooked and mentally unstable Dems?!', array(['FAKE'],\n",
      "      dtype='<U4'))\n",
      "('I call BULLSH$T anyway...', array(['REAL'],\n",
      "      dtype='<U4'))\n",
      "('#VoteMoore  https:/…RT @ActorGongYo: Lots of negative news about me out there. No problem, I only have two hands, but the mouth out there a lot. I can\\'t… RT @CBSNews: NEW: Women who have publicly accused President Trump of sexual harassment and assault will speak at a news conferen… RT @realPolitiDiva: This is an outlier poll. There is no-way and no-how a pro-abortion candidate is going to win in a deep red state af… 『ファークライ5』発売日が2018年3月29日に変更へ - ファミ通.com https://t.co/TWLXfhL94l @famitsuよりRT @Poeticalization: แล้วงบที่ซื้อมา? https://t.co/vLaZsurpw3Now here’s some fake news. Trump complains about these networks multiple times daily. How does he know so much if h… https://t.co/AWYfBYxKTcRT @TuckerCarlson: The Left at Oberlin: It\\'s \"racist\" to prosecute violent shoplifters, and we\\'ll destroy your century-old family busi… RT @RibbonChieko: 都議会(都民の代表)が豊洲移転を決議し', array(['REAL'],\n",
      "      dtype='<U4'))\n",
      "('国の方針でも決定され(国会)', array(['REAL'],\n",
      "      dtype='<U4'))\n",
      "('それを前提に猪瀬元知事は環状2号線の輸送道路をIOCと契約した', array(['REAL'],\n",
      "      dtype='<U4'))\n",
      "('', array(['REAL'],\n",
      "      dtype='<U4'))\n",
      "(\"その条例や契約を揺らがし、女将さんの会に「私に任せて」と中途半端に期待させたのは小池知事であっ… RT @QchainPlatform: Amazing news for NEM! https://t.co/rmbaFdrW2tRT @ukrpravda_news: Суд виправдав скандального ректора, якому загрожувало 12 років тюрми https://t.co/v2EDwVnYTy https://t.co/Sz0vjFEGPGRT @realDonaldTrump: Another false story, this time in the Failing @nytimes, that I watch 4-8 hours of television a day - Wrong!  Also,… Daily Star: Arsenal News: Real Madrid eye Sanchez swap, Man Utd ace to move claim, Europa Le... https://t.co/g1Vz7ZVoFJ【市場反応】米10月JOLT求人件数、予想下回り、ドル反落／指標フラッシュ（フィスコ）   https://t.co/qBVKoVfL8vRT @realDonaldTrump: Another false story, this time in the Failing @nytimes, that I watch 4-8 hours of television a day - Wrong!  Also,… RT @malviyamit: News in last two days that hasn’t seen Leftist media’s outrage: Akali Dal women wing chief dragged and disrobed, pr… RT @RadioTimes: RIP Cheggers: Keith Chegwin has passed away aged 60: https://t.co/PlqUMaDETT https://t.co/gC7q9A4pkkRT @LoveLive_staff: 【ラブライブ！虹ヶ咲学園スクールアイドル同好会 はじめまして！公開生放送 第３回_告知情報】「スクフェス5thアニバーサリーキャンペーンガール27人総選挙」結果発表！「μ's：矢澤にこ Aqours：津島善子 虹ヶ咲学園スクールア… Solangs ma de Tschick zum Bier ned a no neman is ma des a schon wurscht. \", array(['FAKE'],\n",
      "      dtype='<U4'))\n",
      "('', array(['REAL'],\n",
      "      dtype='<U4'))\n",
      "('https://t.co/V34ulhYxic', array(['FAKE'],\n",
      "      dtype='<U4'))\n",
      "...\n",
      "\n",
      "-------------------------------------------\n",
      "Time: 2017-12-11 16:15:40\n",
      "-------------------------------------------\n",
      "(\"https://t.co/KmP9VGPKAbRT @CBSNews: NEW: Women who have publicly accused President Trump of sexual harassment and assault will speak at a news conferen… 日韓・韓日議連が共同声明\\u3000日韓合意履行求める文言なし\\u3000外国人地方参政権付与は明記 https://t.co/lLTsz6IIz3RT @MARIO_DerFriaul: Toh guarda, Lui lo ha capito, quei quattro burattini di 🇮🇹 al gov. No?   Ma dai. Collusi.💩 https://t.co/NqPfy9NA3MWhy Australia's royal commission on child sexual abuse had to happen – explainer https://t.co/bMzfvgUkSCLitecoin Price Forecast: Founder’s Marketing Push | Bitcoin News Web https://t.co/7tmLmkwN6LRT @YarmolukDan: #Blockchain platform provider Ship Chain joins transportation blockchain alliance https://t.co/atdxYQXNs8 #Crypto… RT @don_chump: Thursday will be a jam-packed day of court proceedings. Fields, Goodwin, Ramos and Preston all have court appearanc… @wraparoundcurl I'm glad you didn't die a news story worthy death &lt;3RT @bollywood_life: Anushka Sharma and Virat Kohli married! Here is the first pic of them as husband and wife https://t.co/eDKU0GNIn9RT @JohnJHarwood: new Fox News Poll of AL Senate: Doug Jones 50%, Roy Moore 40%Tom Kelly: Theresa May needs a trade deal more than she needs the DUP #Premium https://t.co/7KrHf1kWUa https://t.co/mqk7S1bj4y#business #news Carl Icahn nominates 4 directors for Xerox's board (XRX) - Brendan McDermid/Reuters Activit investo… https://t.co/NMeIbGJtOlSoon you won't need Verizon to stream NFL on your phone - CNET https://t.co/UlQuzBvvXj #tech #newsRT @GARANT: На вопрос, можно ли включать комиссию банка в квитанцию ЖКХ отдельной строкой, ответил ВС РФ https://t.co/1TupCSv3JvChristopher Plummer Nabs Golden Globe Nomination for 'All the Money in the World' https://t.co/buolwbrRj5 check the… https://t.co/W3gFnU3UUfNews flash (Ali Rose) https://t.co/U2hroRNjHB https://t.co/gHiC9TDK0YRT @jaredctate: #DigiByte $DGB #DigiID is all about the future of internet #IoT #blockchain #CyberSecurity #bitcoin https://t.co/khuvooTXwjRT @Poeticalization: แล้วงบที่ซื้อมา? https://t.co/vLaZsurpw3RT @Deanofcomedy: Fox News hosts' are angrier at Robert Mueller than with Russia for attacking our democracy - my new @CNNOpinion  https://…RT @LETMEYOUR: [For OG Inter Fan] Like &amp; Share FB Fan Page ▶️ https://t.co/casbVp03Bt then go to ▶️ https://t.co/BwLzkKL5fq Select… RT @mediazzzona: Cотрудников свинокомплекса «Вишневский» в Оренбургской области оштрафовали за перекрытие трассы… StubHub Boxing: Brook makes superwelter bow against Rabchenko - Fight News https://t.co/aApaiZTZMbRT @unherd: New software will tell you if your news is fake. That's how bad it's gotten @amandamwhiting https://t.co/IpZon1LYJyFunding boost for green energy schemes - BBC News https://t.co/9e2V82wqmsRT @keithboykin: Obama beats Trump on economy:\", array(['FAKE'],\n",
      "      dtype='<U4'))\n",
      "('', array(['REAL'],\n",
      "      dtype='<U4'))\n",
      "('1. The economy created 2.1 million new jobs from January-November last year but only… RT @badgalmaddie_: Good men dont join the Nigeria Police Force anymore cos of their bad image', array(['REAL'],\n",
      "      dtype='<U4'))\n",
      "('', array(['REAL'],\n",
      "      dtype='<U4'))\n",
      "('NPF is filled with \"professional\" armed… Les news toutes fraîches les amis !https://t.co/zXYHY2dMinRT @TuckerCarlson: The Left at Oberlin: It\\'s \"racist\" to prosecute violent shoplifters, and we\\'ll destroy your century-old family busi… RT @CBSNews: NEW: Women who have publicly accused President Trump of sexual harassment and assault will speak at a news conferen… This, from the king of Fake News, the constant watcher of MSNBC &amp; CNN. And you know now he watches Don Lemon every… https://t.co/E5HYhDk2ywRT @TimOBrien: Translation: “I definitely watch four to eight hours of TV a day.” https://t.co/tkAwlcOl5ADal centro al Sacro Monte. Varese accende il suo Natale - Varese ... - La Provincia di Varese https://t.co/v4B1ysS1fa #varese #newsRT @justmeinlv: #themtoo https://t.co/Wnw9d6TdFJRT @weekly_tvguide: 【TVガイドお正月超特大号は明日12/12発売！☆ジャニーズグラビア】', array(['FAKE'],\n",
      "      dtype='<U4'))\n",
      "('超特大グラビア「All Johnny’s オンリーわんBOOK！」', array(['REAL'],\n",
      "      dtype='<U4'))\n",
      "('V6', array(['REAL'],\n",
      "      dtype='<U4'))\n",
      "('滝沢秀明/今井翼', array(['REAL'],\n",
      "      dtype='<U4'))\n",
      "('NEWS', array(['REAL'],\n",
      "      dtype='<U4'))\n",
      "('関ジャニ∞', array(['REAL'],\n",
      "      dtype='<U4'))\n",
      "...\n",
      "\n"
     ]
    },
    {
     "name": "stdout",
     "output_type": "stream",
     "text": [
      "-------------------------------------------\n",
      "Time: 2017-12-11 16:15:50\n",
      "-------------------------------------------\n",
      "('Take one of their beers and y… https://t.co/bBixTfTkg3masdrnews لطيفة ضيفة برنامج \"كبر دماغك\".. الأربعاء https://t.co/QvhF1plo52RT @gekisaka: レアルはパリSGと激突!!“EL新旧王者対決”も実現…CLベスト16の組み合わせ決定 https://t.co/kVTWhqccNI #gekisaka https://t.co/onQVHI3HRTRT @JohnJHarwood: new Fox News Poll of AL Senate: Doug Jones 50%, Roy Moore 40%RT @JPhlps: @Cernovich @kincsi_chris Correction @CNN are clinton news network is comprised of lying leftist activists who spew hate.RT @LoveLive_staff: 【ラブライブ！虹ヶ咲学園スクールアイドル同好会 はじめまして！公開生放送 第３回_告知情報】「スクフェス5thアニバーサリーキャンペーンガール27人総選挙」結果発表！「μ\\'s：矢澤にこ Aqours：津島善子 虹ヶ咲学園スクールア… RT @monst_mixi: 【#モンスト ハッシュタグ1位感謝キャンペーン！】対象投稿のRT数が1日で5万RT達成！早期達成に感謝し、達成報酬のオーブを5個から7個に変更してお届けします！引き続き、12/15 11:59頃まで豪華賞品の抽選にご参加いただけま… RT @DrDonnaYates: Trump is being sued to stop him from shrinking Bears Ears national monument by 85 percent. Who will win?… RT @KibBitzLaw: . When will Senator McConnell (@McConnellPress) address the fact that, in 2014, 90 lbs of cocaine was found on a bo… RT @shannonrwatts: What a normal President would say: Concerned to hear about the Port Authority explosion in #Manhattan this morning.… RT @PunishPence: Flynn’s indictment means Mueller will turn his focus to Mike Pence soon, if he hasn’t already. ', array(['REAL'],\n",
      "      dtype='<U4'))\n",
      "('https://t.co/hj24shsaqQRT @davidsirota: Media news: everyone is getting laid off ', array(['REAL'],\n",
      "      dtype='<U4'))\n",
      "('', array(['REAL'],\n",
      "      dtype='<U4'))\n",
      "('Nature news: animals are going extinct', array(['FAKE'],\n",
      "      dtype='<U4'))\n",
      "('', array(['REAL'],\n",
      "      dtype='<U4'))\n",
      "(\"Political news: democracy died i… RT @SulomeAnderson: How many foiled attacks by non-Muslims or attacks with no casualties have received this kind of breathless news coverag…Five things about Saudi Arabia's Crown Prince Mohammed bin Salman https://t.co/yABDlDeQ2QRT @StopTheSpeaker: Paul Ryan shuns the nuns.\", array(['REAL'],\n",
      "      dtype='<U4'))\n",
      "('', array(['REAL'],\n",
      "      dtype='<U4'))\n",
      "('Ryan cancels meeting with nuns who wanted to talk to him about a ‘moral budget’. The gro… RT @NM_NANAPARTY: 【NANA PARTY更新】「NANA MIZUKI LIVE GATE 2018」告知ポスターを公開しました！ https://t.co/dKQ7ZQtcOC #LIVE_GATEاگر بچہ صحتمند نہیں ہورہا تو اسے یہ کھلائیں', array(['FAKE'],\n",
      "      dtype='<U4'))\n",
      "('https://t.co/YlPAPi9fw2 https://t.co/quvpLoh5WGRT @NPRinskeep: \"Mr. Trump... is on a perpetual quest to see his name [in the headlines]. One former top adviser said Mr. Trump gre… RT @filmfare: Have you seen @iamsrk in this perfect Dolce and Gabbana outfit? Take a look!', array(['REAL'],\n",
      "      dtype='<U4'))\n",
      "('', array(['REAL'],\n",
      "      dtype='<U4'))\n",
      "...\n",
      "\n",
      "-------------------------------------------\n",
      "Time: 2017-12-11 16:16:00\n",
      "-------------------------------------------\n",
      "(\"Суд в Бородянке оправдал скандального ректора налоговой Мельника, которому грозило 12 лет тюрьмы… RT @natalie_mu: 緑黄色社会、3月に初のフルアルバムリリース https://t.co/T5Sm5pCL6h https://t.co/AIRQtbX1RTRT @swilkinsonbc: Netanyahu says Palestinians should 'get to grips with' reality [we've stolen your land &amp; slaughtered your children] https…RT @soft_jiminie: TRAGIC NEWS: Durante tutta la fottutissima ora di matematica, che già non capisco di mio, ho avuto in mente Give it… headline news: In New NFL Deal, Verizon Trades Mobile Exclusivity for Rights on Yahoo - Verizon Communications will… https://t.co/uuNCs8QtD5RT @realDonaldTrump: Very little discussion of all the purposely false and defamatory stories put out this week by the Fake News Media.… RT @Nysteveo2AOLcom: UN poverty official touring Alabama's Black Belt: 'I haven't seen this' in the First World | https://t.co/x14JW82z1p h…RT @PoliticallyRYT: 10 day after NBC announced it had fired it biggest star, Matt Lauer, for sexual offenses, NBC News Chairman sent a… Vuestra vida que tal? https://t.co/HJQiaDPwnvLitecoin Price Forecast: Founder’s Marketing Push | Bitcoin News Web https://t.co/2Lyl0kCuaUAwful news about Keith Chegwin. So sad he has passed away. :(RT @Otto_English: Really sad #RIPCheggars https://t.co/XxfK4pN6edRT @newsfakenews: Fox News Anchor Fumbles With Facts During Segment On 'Fake News' - Full Story Here Yahoo News December 11, 2017 4:0… RT @Catalin77960200: Serial Killer Who Murdered 7 People Says He Has More Undiscovered Victims - TIME https://t.co/8RbWxLcLYk肩の筋肉痛・五十肩の方必見！三角筋・関節の痛みに効果的な治療・トレーニング方法とは？ 突然襲ってくる五十肩の痛み！痛くて眠れないことも！ 年齢を重なると突然増えてくる五十肩。その原因は、まだはっき […] Source: 筋ト https://t.co/8g3i8FDqGxRT @TimOBrien: Focus on Flynn, Trump timeline suggests obstruction is on Mueller's mind -- and potential obstruction charges would… RT @danpfeiffer: Trump sent this tweet denying a claim that he watched too much TV from story that has been out for two days because… RT @TheDailyShow: We're all ok in NYC thanks for asking! https://t.co/ERFd4fabAMRT @MatureTrumpTwts: I have been briefed about this morning's explosion in Manhattan. I want to extend our thoughts to those injured, an… RT @renato_mariotti: If you're not alarmed by Donald Trump's attempts to undermine our free press, you're not paying attention. Once he… RT @politicoalex: NEWS: Nebraska RNC committeewoman Joyce Simmons has RESIGNED over committee's support for Roy MooreRT @kylegriffin1: Interesting that Trump is choosing to attack the New York Times, rather than respond to the Times Square terror inc… RT @PrisonPlanet: @broderick Officials revealed that it was ISIS-inspired attack very early on and this was widely reported on news n… Real estate daily market update: December 11, 2017 - All the latest real estate market news ... https://t.co/cjHl5JSK29RT @PoliticalShort: “Fusion GPS pushed the story that a special email server existed between Trump Tower and Moscow’s Alfa bank.” https://t…RT @realDonaldTrump: Another false story, this time in the Failing @nytimes, that I watch 4-8 hours of television a day - Wrong!  Also,… RT @DavidOvalle305: Miami-Dade cops are writing fewer traffic citations - because they're running out of ticket books. My story:… RT @HawkeyeFootball: Josey Jewell Named Lott IMPACT Trophy Winner | #Hawkeyes @TheLottTrophy https://t.co/0zG2pym4r8 https://t.co/Bu79ybiRo9@womensmediacntr  @womensmarch  @UN_Women  @womensfunding  @EmergeAmerica  @womenvetsaction  @WVFDW  @Womens_eNews… https://t.co/JuwQh8AIPoRT @SMHoaxSlayer: Thanks for being with &amp; believing in SMHoaxSlayer. Contribute to the war against Fake News: https://t.co/a2fV43MWMX via @…RT @SafetyPinDaily: Uranium firm urged Donald Trump to shrink Bears Ears area to ease access to radioactive ore   |Via Independent https://…RT @jp66957: @MukeshBundi @malviyamit @BJP4India Deepak Chaurasia is spreading fake news 2 mislead people that Asaramji is given… @Enghumbhini That's why channel surfing is essential if you are to debate issues, you need to widen your scope and… https://t.co/45xPB2sqmuRT @MorningNewsTV3: (คลิป) 'คิมเบอร์ลี่' เขินโดนแซวหนัก คว้าช่อดอกไม้เจ้าสาว เบรกกองเชียร์ยังไม่ถึงเวลา #เรื่องเล่าเสาร์อาทิตย์… California Fires Close Colleges – Inside Higher Ed https://t.co/UlNFXImSPNRT @ScottMStedman: @LindseyGrahamSC Manafort and Deripaska had (at least) a $60 million relationship. Ferry worked with Manafort for y… بذريعة مساندة القوات الحكومية .. استراليا تقرر استمرار تواجدها العسكري في العراق https://t.co/wCerc28XJ1RT @avwatch: ステレオ時代が「カセットテープ コンプリートブック」発売。ウォークマン179機種も登場 https://t.co/eb0GROKw16 https://t.co/LC5N1apGDLRT @OYERJALOK: OMG.. #VirushkaWEDDING congratulations to both on this beautiful occasion wishing them a Happy married life… Later On The News: Local Celebrity Loves Corn, More At 6At least now we understand Trump's actions. He's been trying to steal a certain title from Lemon (in his mind at le… https://t.co/Ki4UEh131qBudgeting For Short And Long Term Brand Building | Branding Strategy Insider https://t.co/N5iw9j8icP\", array(['REAL'],\n",
      "      dtype='<U4'))\n",
      "('', array(['REAL'],\n",
      "      dtype='<U4'))\n",
      "(\"It has never… https://t.co/2l6Qpnnrl7Aνέβηκε στην εξέδρα για να κάνει πρόταση γάμου - https://t.co/PSOqdy5kaV - #Cyprus #Today - #CyprusToday #News https://t.co/BgMIbzvR6KRT @TheDailyShow: We're all ok in NYC thanks for asking! https://t.co/ERFd4fabAMRT @FBI: #FBI has released details on more than 6 million criminal offenses reported by law enforcement agencies around the… RT @igorvolsky: Our president's reaction to today's terror incident in NYC https://t.co/Yfa9o3XG0CRT @SethAbramson: 4/ The reason is that Flynn faces devastating consequences if he lies to Mueller. But we also know that Trump was i… RT @GamerNeJp: 「World of Warships」TVアニメ「ハイスクール・フリート」とのコラボ第2弾が決定！新たなコラボビジュアルが公開 https://t.co/OzhvQqa4nB #WoWS https://t.co/oT1dyAVkT3RT @EnglishAlwaght: Iran FM Cautions EU against Following in Lock Step behind US\", array(['FAKE'],\n",
      "      dtype='<U4'))\n",
      "('https://t.co/hBQ03PXs39 ', array(['FAKE'],\n",
      "      dtype='<U4'))\n",
      "('#Iran', array(['REAL'],\n",
      "      dtype='<U4'))\n",
      "('#EU', array(['FAKE'],\n",
      "      dtype='<U4'))\n",
      "('#US', array(['REAL'],\n",
      "      dtype='<U4'))\n",
      "('#IranDeal', array(['REAL'],\n",
      "      dtype='<U4'))\n",
      "('#Zarif ht…От взрыва на автовокзале в Нью-Йорке пострадали 4 человека https://t.co/yOxiQes5bU #rg.ru #новости #newsSell 1 USDCHF https://t.co/K89FYKm3dt . Trading System Trend Follower Adv is FLAT. More news @TradeForex_en - About https://t.co/ojUfOyyZ03RT @wave105radio: NEWS: Tributes to TV presenter Keith Chegwin who\\'s died at the age of 60 following a long-term illness #Cheggers… RT @smendersNB: Police seek individual in investigation of fatal shooting https://t.co/t11VfoBqywRT @Sirsargent: Pam Joyner, the black art collector is using her vast collection of 400 works of mostly black abstraction, to rewri… RT @smendersNB: Police seek individual in investigation of fatal shooting https://t.co/t11VfoBqyw&lt;&lt;&lt; \"Could #DesalinatedWater from Mexico flow to San Diego?\" https://t.co/bziAc5Se9U浅田真央さん\\u3000笑顔で初の42・195キロ\\u3000ホノルルマラソン完走４時間34分13秒― スポニチ Sponichi Annex スポーツ https://t.co/yjMx6b1Qg6 https://t.co/p2JiTudjaJRT @abpnewstv: FLASH - Italy: Virat Kohli and Anushka Sharma\\'s wedding ceremony currently underway in Buonconvento town in the Pro… RT @TeaPainUSA: #ThatAwkwardMoment when you deny watchin\\' @CNN 10 minutes after CNN reports you do.', array(['FAKE'],\n",
      "      dtype='<U4'))\n",
      "('', array(['REAL'],\n",
      "      dtype='<U4'))\n",
      "...\n",
      "\n"
     ]
    },
    {
     "name": "stdout",
     "output_type": "stream",
     "text": [
      "-------------------------------------------\n",
      "Time: 2017-12-11 16:16:10\n",
      "-------------------------------------------\n",
      "\n",
      "-------------------------------------------\n",
      "Time: 2017-12-11 16:16:20\n",
      "-------------------------------------------\n",
      "\n",
      "-------------------------------------------\n",
      "Time: 2017-12-11 16:16:30\n",
      "-------------------------------------------\n",
      "\n",
      "-------------------------------------------\n",
      "Time: 2017-12-11 16:16:40\n",
      "-------------------------------------------\n",
      "\n",
      "-------------------------------------------\n",
      "Time: 2017-12-11 16:16:50\n",
      "-------------------------------------------\n",
      "\n",
      "-------------------------------------------\n",
      "Time: 2017-12-11 16:17:00\n",
      "-------------------------------------------\n",
      "\n",
      "-------------------------------------------\n",
      "Time: 2017-12-11 16:17:10\n",
      "-------------------------------------------\n",
      "\n",
      "-------------------------------------------\n",
      "Time: 2017-12-11 16:17:20\n",
      "-------------------------------------------\n",
      "\n",
      "-------------------------------------------\n",
      "Time: 2017-12-11 16:17:30\n",
      "-------------------------------------------\n",
      "\n",
      "-------------------------------------------\n",
      "Time: 2017-12-11 16:17:40\n",
      "-------------------------------------------\n",
      "\n",
      "-------------------------------------------\n",
      "Time: 2017-12-11 16:17:50\n",
      "-------------------------------------------\n",
      "\n",
      "-------------------------------------------\n",
      "Time: 2017-12-11 16:18:00\n",
      "-------------------------------------------\n",
      "\n",
      "-------------------------------------------\n",
      "Time: 2017-12-11 16:18:10\n",
      "-------------------------------------------\n",
      "\n"
     ]
    },
    {
     "ename": "KeyboardInterrupt",
     "evalue": "",
     "output_type": "error",
     "traceback": [
      "\u001b[0;31m---------------------------------------------------------------------------\u001b[0m",
      "\u001b[0;31mKeyboardInterrupt\u001b[0m                         Traceback (most recent call last)",
      "\u001b[0;32m<ipython-input-19-18f3db416f1c>\u001b[0m in \u001b[0;36m<module>\u001b[0;34m()\u001b[0m\n\u001b[1;32m      1\u001b[0m \u001b[0mssc\u001b[0m\u001b[0;34m.\u001b[0m\u001b[0mstart\u001b[0m\u001b[0;34m(\u001b[0m\u001b[0;34m)\u001b[0m\u001b[0;34m\u001b[0m\u001b[0m\n\u001b[0;32m----> 2\u001b[0;31m \u001b[0mssc\u001b[0m\u001b[0;34m.\u001b[0m\u001b[0mawaitTermination\u001b[0m\u001b[0;34m(\u001b[0m\u001b[0;34m)\u001b[0m\u001b[0;34m\u001b[0m\u001b[0m\n\u001b[0m",
      "\u001b[0;32m~/.virtualenv/fake_news/lib/python3.5/site-packages/pyspark/streaming/context.py\u001b[0m in \u001b[0;36mawaitTermination\u001b[0;34m(self, timeout)\u001b[0m\n\u001b[1;32m    204\u001b[0m         \"\"\"\n\u001b[1;32m    205\u001b[0m         \u001b[0;32mif\u001b[0m \u001b[0mtimeout\u001b[0m \u001b[0;32mis\u001b[0m \u001b[0;32mNone\u001b[0m\u001b[0;34m:\u001b[0m\u001b[0;34m\u001b[0m\u001b[0m\n\u001b[0;32m--> 206\u001b[0;31m             \u001b[0mself\u001b[0m\u001b[0;34m.\u001b[0m\u001b[0m_jssc\u001b[0m\u001b[0;34m.\u001b[0m\u001b[0mawaitTermination\u001b[0m\u001b[0;34m(\u001b[0m\u001b[0;34m)\u001b[0m\u001b[0;34m\u001b[0m\u001b[0m\n\u001b[0m\u001b[1;32m    207\u001b[0m         \u001b[0;32melse\u001b[0m\u001b[0;34m:\u001b[0m\u001b[0;34m\u001b[0m\u001b[0m\n\u001b[1;32m    208\u001b[0m             \u001b[0mself\u001b[0m\u001b[0;34m.\u001b[0m\u001b[0m_jssc\u001b[0m\u001b[0;34m.\u001b[0m\u001b[0mawaitTerminationOrTimeout\u001b[0m\u001b[0;34m(\u001b[0m\u001b[0mint\u001b[0m\u001b[0;34m(\u001b[0m\u001b[0mtimeout\u001b[0m \u001b[0;34m*\u001b[0m \u001b[0;36m1000\u001b[0m\u001b[0;34m)\u001b[0m\u001b[0;34m)\u001b[0m\u001b[0;34m\u001b[0m\u001b[0m\n",
      "\u001b[0;32m~/.virtualenv/fake_news/lib/python3.5/site-packages/py4j/java_gateway.py\u001b[0m in \u001b[0;36m__call__\u001b[0;34m(self, *args)\u001b[0m\n\u001b[1;32m   1129\u001b[0m             \u001b[0mproto\u001b[0m\u001b[0;34m.\u001b[0m\u001b[0mEND_COMMAND_PART\u001b[0m\u001b[0;34m\u001b[0m\u001b[0m\n\u001b[1;32m   1130\u001b[0m \u001b[0;34m\u001b[0m\u001b[0m\n\u001b[0;32m-> 1131\u001b[0;31m         \u001b[0manswer\u001b[0m \u001b[0;34m=\u001b[0m \u001b[0mself\u001b[0m\u001b[0;34m.\u001b[0m\u001b[0mgateway_client\u001b[0m\u001b[0;34m.\u001b[0m\u001b[0msend_command\u001b[0m\u001b[0;34m(\u001b[0m\u001b[0mcommand\u001b[0m\u001b[0;34m)\u001b[0m\u001b[0;34m\u001b[0m\u001b[0m\n\u001b[0m\u001b[1;32m   1132\u001b[0m         return_value = get_return_value(\n\u001b[1;32m   1133\u001b[0m             answer, self.gateway_client, self.target_id, self.name)\n",
      "\u001b[0;32m~/.virtualenv/fake_news/lib/python3.5/site-packages/py4j/java_gateway.py\u001b[0m in \u001b[0;36msend_command\u001b[0;34m(self, command, retry, binary)\u001b[0m\n\u001b[1;32m    881\u001b[0m         \u001b[0mconnection\u001b[0m \u001b[0;34m=\u001b[0m \u001b[0mself\u001b[0m\u001b[0;34m.\u001b[0m\u001b[0m_get_connection\u001b[0m\u001b[0;34m(\u001b[0m\u001b[0;34m)\u001b[0m\u001b[0;34m\u001b[0m\u001b[0m\n\u001b[1;32m    882\u001b[0m         \u001b[0;32mtry\u001b[0m\u001b[0;34m:\u001b[0m\u001b[0;34m\u001b[0m\u001b[0m\n\u001b[0;32m--> 883\u001b[0;31m             \u001b[0mresponse\u001b[0m \u001b[0;34m=\u001b[0m \u001b[0mconnection\u001b[0m\u001b[0;34m.\u001b[0m\u001b[0msend_command\u001b[0m\u001b[0;34m(\u001b[0m\u001b[0mcommand\u001b[0m\u001b[0;34m)\u001b[0m\u001b[0;34m\u001b[0m\u001b[0m\n\u001b[0m\u001b[1;32m    884\u001b[0m             \u001b[0;32mif\u001b[0m \u001b[0mbinary\u001b[0m\u001b[0;34m:\u001b[0m\u001b[0;34m\u001b[0m\u001b[0m\n\u001b[1;32m    885\u001b[0m                 \u001b[0;32mreturn\u001b[0m \u001b[0mresponse\u001b[0m\u001b[0;34m,\u001b[0m \u001b[0mself\u001b[0m\u001b[0;34m.\u001b[0m\u001b[0m_create_connection_guard\u001b[0m\u001b[0;34m(\u001b[0m\u001b[0mconnection\u001b[0m\u001b[0;34m)\u001b[0m\u001b[0;34m\u001b[0m\u001b[0m\n",
      "\u001b[0;32m~/.virtualenv/fake_news/lib/python3.5/site-packages/py4j/java_gateway.py\u001b[0m in \u001b[0;36msend_command\u001b[0;34m(self, command)\u001b[0m\n\u001b[1;32m   1026\u001b[0m \u001b[0;34m\u001b[0m\u001b[0m\n\u001b[1;32m   1027\u001b[0m         \u001b[0;32mtry\u001b[0m\u001b[0;34m:\u001b[0m\u001b[0;34m\u001b[0m\u001b[0m\n\u001b[0;32m-> 1028\u001b[0;31m             \u001b[0manswer\u001b[0m \u001b[0;34m=\u001b[0m \u001b[0msmart_decode\u001b[0m\u001b[0;34m(\u001b[0m\u001b[0mself\u001b[0m\u001b[0;34m.\u001b[0m\u001b[0mstream\u001b[0m\u001b[0;34m.\u001b[0m\u001b[0mreadline\u001b[0m\u001b[0;34m(\u001b[0m\u001b[0;34m)\u001b[0m\u001b[0;34m[\u001b[0m\u001b[0;34m:\u001b[0m\u001b[0;34m-\u001b[0m\u001b[0;36m1\u001b[0m\u001b[0;34m]\u001b[0m\u001b[0;34m)\u001b[0m\u001b[0;34m\u001b[0m\u001b[0m\n\u001b[0m\u001b[1;32m   1029\u001b[0m             \u001b[0mlogger\u001b[0m\u001b[0;34m.\u001b[0m\u001b[0mdebug\u001b[0m\u001b[0;34m(\u001b[0m\u001b[0;34m\"Answer received: {0}\"\u001b[0m\u001b[0;34m.\u001b[0m\u001b[0mformat\u001b[0m\u001b[0;34m(\u001b[0m\u001b[0manswer\u001b[0m\u001b[0;34m)\u001b[0m\u001b[0;34m)\u001b[0m\u001b[0;34m\u001b[0m\u001b[0m\n\u001b[1;32m   1030\u001b[0m             \u001b[0;32mif\u001b[0m \u001b[0manswer\u001b[0m\u001b[0;34m.\u001b[0m\u001b[0mstartswith\u001b[0m\u001b[0;34m(\u001b[0m\u001b[0mproto\u001b[0m\u001b[0;34m.\u001b[0m\u001b[0mRETURN_MESSAGE\u001b[0m\u001b[0;34m)\u001b[0m\u001b[0;34m:\u001b[0m\u001b[0;34m\u001b[0m\u001b[0m\n",
      "\u001b[0;32m/Library/Frameworks/Python.framework/Versions/3.5/lib/python3.5/socket.py\u001b[0m in \u001b[0;36mreadinto\u001b[0;34m(self, b)\u001b[0m\n\u001b[1;32m    573\u001b[0m         \u001b[0;32mwhile\u001b[0m \u001b[0;32mTrue\u001b[0m\u001b[0;34m:\u001b[0m\u001b[0;34m\u001b[0m\u001b[0m\n\u001b[1;32m    574\u001b[0m             \u001b[0;32mtry\u001b[0m\u001b[0;34m:\u001b[0m\u001b[0;34m\u001b[0m\u001b[0m\n\u001b[0;32m--> 575\u001b[0;31m                 \u001b[0;32mreturn\u001b[0m \u001b[0mself\u001b[0m\u001b[0;34m.\u001b[0m\u001b[0m_sock\u001b[0m\u001b[0;34m.\u001b[0m\u001b[0mrecv_into\u001b[0m\u001b[0;34m(\u001b[0m\u001b[0mb\u001b[0m\u001b[0;34m)\u001b[0m\u001b[0;34m\u001b[0m\u001b[0m\n\u001b[0m\u001b[1;32m    576\u001b[0m             \u001b[0;32mexcept\u001b[0m \u001b[0mtimeout\u001b[0m\u001b[0;34m:\u001b[0m\u001b[0;34m\u001b[0m\u001b[0m\n\u001b[1;32m    577\u001b[0m                 \u001b[0mself\u001b[0m\u001b[0;34m.\u001b[0m\u001b[0m_timeout_occurred\u001b[0m \u001b[0;34m=\u001b[0m \u001b[0;32mTrue\u001b[0m\u001b[0;34m\u001b[0m\u001b[0m\n",
      "\u001b[0;31mKeyboardInterrupt\u001b[0m: "
     ]
    },
    {
     "name": "stdout",
     "output_type": "stream",
     "text": [
      "-------------------------------------------\n",
      "Time: 2017-12-11 16:18:20\n",
      "-------------------------------------------\n",
      "\n",
      "-------------------------------------------\n",
      "Time: 2017-12-11 16:18:30\n",
      "-------------------------------------------\n",
      "\n",
      "-------------------------------------------\n",
      "Time: 2017-12-11 16:18:40\n",
      "-------------------------------------------\n",
      "\n",
      "-------------------------------------------\n",
      "Time: 2017-12-11 16:18:50\n",
      "-------------------------------------------\n",
      "\n",
      "-------------------------------------------\n",
      "Time: 2017-12-11 16:19:00\n",
      "-------------------------------------------\n",
      "\n",
      "-------------------------------------------\n",
      "Time: 2017-12-11 16:19:10\n",
      "-------------------------------------------\n",
      "\n",
      "-------------------------------------------\n",
      "Time: 2017-12-11 16:19:20\n",
      "-------------------------------------------\n",
      "\n",
      "-------------------------------------------\n",
      "Time: 2017-12-11 16:19:30\n",
      "-------------------------------------------\n",
      "\n",
      "-------------------------------------------\n",
      "Time: 2017-12-11 16:19:40\n",
      "-------------------------------------------\n",
      "\n",
      "-------------------------------------------\n",
      "Time: 2017-12-11 16:19:50\n",
      "-------------------------------------------\n",
      "\n",
      "-------------------------------------------\n",
      "Time: 2017-12-11 16:20:00\n",
      "-------------------------------------------\n",
      "\n",
      "-------------------------------------------\n",
      "Time: 2017-12-11 16:20:10\n",
      "-------------------------------------------\n",
      "\n",
      "-------------------------------------------\n",
      "Time: 2017-12-11 16:20:20\n",
      "-------------------------------------------\n",
      "\n",
      "-------------------------------------------\n",
      "Time: 2017-12-11 16:20:30\n",
      "-------------------------------------------\n",
      "\n",
      "-------------------------------------------\n",
      "Time: 2017-12-11 16:20:40\n",
      "-------------------------------------------\n",
      "\n",
      "-------------------------------------------\n",
      "Time: 2017-12-11 16:20:50\n",
      "-------------------------------------------\n",
      "\n",
      "-------------------------------------------\n",
      "Time: 2017-12-11 16:21:00\n",
      "-------------------------------------------\n",
      "\n",
      "-------------------------------------------\n",
      "Time: 2017-12-11 16:21:10\n",
      "-------------------------------------------\n",
      "\n",
      "-------------------------------------------\n",
      "Time: 2017-12-11 16:21:20\n",
      "-------------------------------------------\n",
      "\n",
      "-------------------------------------------\n",
      "Time: 2017-12-11 16:21:30\n",
      "-------------------------------------------\n",
      "\n"
     ]
    }
   ],
   "source": [
    "ssc.start()\n",
    "ssc.awaitTermination()"
   ]
  },
  {
   "cell_type": "code",
   "execution_count": null,
   "metadata": {},
   "outputs": [],
   "source": []
  }
 ],
 "metadata": {
  "kernelspec": {
   "display_name": "Python 3",
   "language": "python",
   "name": "python3"
  },
  "language_info": {
   "codemirror_mode": {
    "name": "ipython",
    "version": 3
   },
   "file_extension": ".py",
   "mimetype": "text/x-python",
   "name": "python",
   "nbconvert_exporter": "python",
   "pygments_lexer": "ipython3",
   "version": "3.5.2"
  }
 },
 "nbformat": 4,
 "nbformat_minor": 2
}
